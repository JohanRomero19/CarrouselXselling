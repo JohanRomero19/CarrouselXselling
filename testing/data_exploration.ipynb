{
 "cells": [
  {
   "cell_type": "markdown",
   "id": "dd2deea5",
   "metadata": {},
   "source": [
    "# Tests over the data"
   ]
  },
  {
   "cell_type": "markdown",
   "id": "6d9951b5",
   "metadata": {},
   "source": [
    "## 1. reading and testing pays.csv"
   ]
  },
  {
   "cell_type": "code",
   "execution_count": 1,
   "id": "f1d4570e",
   "metadata": {},
   "outputs": [],
   "source": [
    "import pandas as pd\n",
    "import json"
   ]
  },
  {
   "cell_type": "code",
   "execution_count": 2,
   "id": "ef92aaf5",
   "metadata": {},
   "outputs": [],
   "source": [
    "pays_df = pd.read_csv(\"../landing/pays.csv\")"
   ]
  },
  {
   "cell_type": "code",
   "execution_count": 3,
   "id": "70757a24",
   "metadata": {},
   "outputs": [
    {
     "data": {
      "text/plain": [
       "<bound method NDFrame.describe of           pay_date   total  user_id          value_prop\n",
       "0       2020-11-01    7.04    35994          link_cobro\n",
       "1       2020-11-01   37.36    79066  cellphone_recharge\n",
       "2       2020-11-01   15.84    19321  cellphone_recharge\n",
       "3       2020-11-01   26.26    19321          send_money\n",
       "4       2020-11-01   35.35    38438          send_money\n",
       "...            ...     ...      ...                 ...\n",
       "756478  2020-11-30   17.76    74524          send_money\n",
       "756479  2020-11-30  111.02    42594           transport\n",
       "756480  2020-11-30    0.81     1338           transport\n",
       "756481  2020-11-30   34.71     1338    credits_consumer\n",
       "756482  2020-11-30   11.76    99962             prepaid\n",
       "\n",
       "[756483 rows x 4 columns]>"
      ]
     },
     "execution_count": 3,
     "metadata": {},
     "output_type": "execute_result"
    }
   ],
   "source": [
    "pays_df.describe"
   ]
  },
  {
   "cell_type": "markdown",
   "id": "ca1d2865",
   "metadata": {},
   "source": [
    "total rows and collumns\n",
    "756483         4"
   ]
  },
  {
   "cell_type": "markdown",
   "id": "b91087a1",
   "metadata": {},
   "source": [
    "Describe df"
   ]
  },
  {
   "cell_type": "code",
   "execution_count": 4,
   "id": "ac7b5c3a",
   "metadata": {},
   "outputs": [
    {
     "data": {
      "text/plain": [
       "pay_date       object\n",
       "total         float64\n",
       "user_id         int64\n",
       "value_prop     object\n",
       "dtype: object"
      ]
     },
     "execution_count": 4,
     "metadata": {},
     "output_type": "execute_result"
    }
   ],
   "source": [
    "pays_df.dtypes"
   ]
  },
  {
   "cell_type": "code",
   "execution_count": 5,
   "id": "ca15baa2",
   "metadata": {},
   "outputs": [
    {
     "data": {
      "text/plain": [
       "array(['link_cobro', 'cellphone_recharge', 'send_money', 'transport',\n",
       "       'prepaid', 'point', 'credits_consumer'], dtype=object)"
      ]
     },
     "execution_count": 5,
     "metadata": {},
     "output_type": "execute_result"
    }
   ],
   "source": [
    "pays_df['value_prop'].unique()"
   ]
  },
  {
   "cell_type": "markdown",
   "id": "b48e8105",
   "metadata": {},
   "source": [
    "## 2. reading and testing prints.json"
   ]
  },
  {
   "cell_type": "code",
   "execution_count": 6,
   "id": "cc69f918",
   "metadata": {},
   "outputs": [],
   "source": [
    "prints_df = pd.read_json(\"../landing/prints.json\", lines=True)"
   ]
  },
  {
   "cell_type": "code",
   "execution_count": 7,
   "id": "63310738",
   "metadata": {},
   "outputs": [
    {
     "data": {
      "text/plain": [
       "<bound method NDFrame.describe of                day                                         event_data  user_id\n",
       "0       2020-11-01  {'position': 0, 'value_prop': 'cellphone_recha...    98702\n",
       "1       2020-11-01           {'position': 1, 'value_prop': 'prepaid'}    98702\n",
       "2       2020-11-01           {'position': 0, 'value_prop': 'prepaid'}    63252\n",
       "3       2020-11-01  {'position': 0, 'value_prop': 'cellphone_recha...    24728\n",
       "4       2020-11-01        {'position': 1, 'value_prop': 'link_cobro'}    24728\n",
       "...            ...                                                ...      ...\n",
       "508612  2020-11-30        {'position': 0, 'value_prop': 'send_money'}    50807\n",
       "508613  2020-11-30           {'position': 1, 'value_prop': 'prepaid'}    50807\n",
       "508614  2020-11-30  {'position': 2, 'value_prop': 'credits_consumer'}    50807\n",
       "508615  2020-11-30             {'position': 0, 'value_prop': 'point'}     1487\n",
       "508616  2020-11-30        {'position': 0, 'value_prop': 'send_money'}     9462\n",
       "\n",
       "[508617 rows x 3 columns]>"
      ]
     },
     "execution_count": 7,
     "metadata": {},
     "output_type": "execute_result"
    }
   ],
   "source": [
    "prints_df.describe"
   ]
  },
  {
   "cell_type": "code",
   "execution_count": 8,
   "id": "108df431",
   "metadata": {},
   "outputs": [],
   "source": [
    "s = prints_df['event_data'].map(lambda d: d if isinstance(d, dict) else {})\n",
    "\n",
    "event_df = pd.json_normalize(s, sep='.')\n",
    "\n",
    "event_df = event_df.add_prefix('event_data.')\n",
    "\n",
    "prints_df = prints_df.drop(columns=['event_data']).join(event_df)\n"
   ]
  },
  {
   "cell_type": "markdown",
   "id": "5410959e",
   "metadata": {},
   "source": [
    "Normalizing jsons in columns"
   ]
  },
  {
   "cell_type": "code",
   "execution_count": 9,
   "id": "00d6267d",
   "metadata": {},
   "outputs": [
    {
     "data": {
      "text/plain": [
       "<bound method NDFrame.describe of                day  user_id  event_data.position event_data.value_prop\n",
       "0       2020-11-01    98702                    0    cellphone_recharge\n",
       "1       2020-11-01    98702                    1               prepaid\n",
       "2       2020-11-01    63252                    0               prepaid\n",
       "3       2020-11-01    24728                    0    cellphone_recharge\n",
       "4       2020-11-01    24728                    1            link_cobro\n",
       "...            ...      ...                  ...                   ...\n",
       "508612  2020-11-30    50807                    0            send_money\n",
       "508613  2020-11-30    50807                    1               prepaid\n",
       "508614  2020-11-30    50807                    2      credits_consumer\n",
       "508615  2020-11-30     1487                    0                 point\n",
       "508616  2020-11-30     9462                    0            send_money\n",
       "\n",
       "[508617 rows x 4 columns]>"
      ]
     },
     "execution_count": 9,
     "metadata": {},
     "output_type": "execute_result"
    }
   ],
   "source": [
    "prints_df.describe"
   ]
  },
  {
   "cell_type": "markdown",
   "id": "4a347578",
   "metadata": {},
   "source": [
    "total rows and collumns\n",
    "508617         3"
   ]
  },
  {
   "cell_type": "code",
   "execution_count": 10,
   "id": "93c13c0d",
   "metadata": {},
   "outputs": [
    {
     "data": {
      "text/plain": [
       "array([0, 1, 2, 3])"
      ]
     },
     "execution_count": 10,
     "metadata": {},
     "output_type": "execute_result"
    }
   ],
   "source": [
    "prints_df['event_data.position'].unique()"
   ]
  },
  {
   "cell_type": "markdown",
   "id": "c7835c31",
   "metadata": {},
   "source": [
    "## 3. Reading and testing data taps.json"
   ]
  },
  {
   "cell_type": "code",
   "execution_count": 11,
   "id": "3770047d",
   "metadata": {},
   "outputs": [],
   "source": [
    "taps_df = pd.read_json('../landing/taps.json', lines=True)"
   ]
  },
  {
   "cell_type": "code",
   "execution_count": 12,
   "id": "5340dad4",
   "metadata": {},
   "outputs": [
    {
     "data": {
      "text/plain": [
       "<bound method NDFrame.describe of               day                                         event_data  user_id\n",
       "0      2020-11-01  {'position': 0, 'value_prop': 'cellphone_recha...    98702\n",
       "1      2020-11-01             {'position': 2, 'value_prop': 'point'}     3708\n",
       "2      2020-11-01        {'position': 3, 'value_prop': 'send_money'}     3708\n",
       "3      2020-11-01         {'position': 0, 'value_prop': 'transport'}    93963\n",
       "4      2020-11-01  {'position': 1, 'value_prop': 'cellphone_recha...    93963\n",
       "...           ...                                                ...      ...\n",
       "50854  2020-11-30  {'position': 2, 'value_prop': 'credits_consumer'}    64149\n",
       "50855  2020-11-30             {'position': 1, 'value_prop': 'point'}     3329\n",
       "50856  2020-11-30  {'position': 1, 'value_prop': 'cellphone_recha...    77012\n",
       "50857  2020-11-30  {'position': 2, 'value_prop': 'cellphone_recha...    14704\n",
       "50858  2020-11-30         {'position': 2, 'value_prop': 'transport'}    93605\n",
       "\n",
       "[50859 rows x 3 columns]>"
      ]
     },
     "execution_count": 12,
     "metadata": {},
     "output_type": "execute_result"
    }
   ],
   "source": [
    "taps_df.describe"
   ]
  },
  {
   "cell_type": "code",
   "execution_count": 14,
   "id": "468fa64c",
   "metadata": {},
   "outputs": [],
   "source": [
    "s = taps_df['event_data'].map(lambda d: d if isinstance(d, dict) else {})\n",
    "\n",
    "event_df = pd.json_normalize(s, sep='.')\n",
    "\n",
    "event_df = event_df.add_prefix('event_data.')\n",
    "\n",
    "taps_df = taps_df.drop(columns=['event_data']).join(event_df)"
   ]
  },
  {
   "cell_type": "code",
   "execution_count": 15,
   "id": "f028ffdc",
   "metadata": {},
   "outputs": [
    {
     "data": {
      "text/plain": [
       "<bound method NDFrame.describe of               day  user_id  event_data.position event_data.value_prop\n",
       "0      2020-11-01    98702                    0    cellphone_recharge\n",
       "1      2020-11-01     3708                    2                 point\n",
       "2      2020-11-01     3708                    3            send_money\n",
       "3      2020-11-01    93963                    0             transport\n",
       "4      2020-11-01    93963                    1    cellphone_recharge\n",
       "...           ...      ...                  ...                   ...\n",
       "50854  2020-11-30    64149                    2      credits_consumer\n",
       "50855  2020-11-30     3329                    1                 point\n",
       "50856  2020-11-30    77012                    1    cellphone_recharge\n",
       "50857  2020-11-30    14704                    2    cellphone_recharge\n",
       "50858  2020-11-30    93605                    2             transport\n",
       "\n",
       "[50859 rows x 4 columns]>"
      ]
     },
     "execution_count": 15,
     "metadata": {},
     "output_type": "execute_result"
    }
   ],
   "source": [
    "taps_df.describe"
   ]
  },
  {
   "cell_type": "code",
   "execution_count": 17,
   "id": "a2110da5",
   "metadata": {},
   "outputs": [
    {
     "data": {
      "text/plain": [
       "array(['cellphone_recharge', 'point', 'send_money', 'transport',\n",
       "       'link_cobro', 'prepaid', 'credits_consumer'], dtype=object)"
      ]
     },
     "execution_count": 17,
     "metadata": {},
     "output_type": "execute_result"
    }
   ],
   "source": [
    "taps_df['event_data.position'].unique()\n",
    "taps_df['event_data.value_prop'].unique()"
   ]
  }
 ],
 "metadata": {
  "kernelspec": {
   "display_name": "venv",
   "language": "python",
   "name": "python3"
  },
  "language_info": {
   "codemirror_mode": {
    "name": "ipython",
    "version": 3
   },
   "file_extension": ".py",
   "mimetype": "text/x-python",
   "name": "python",
   "nbconvert_exporter": "python",
   "pygments_lexer": "ipython3",
   "version": "3.13.5"
  }
 },
 "nbformat": 4,
 "nbformat_minor": 5
}
